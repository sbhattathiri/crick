{
 "cells": [
  {
   "cell_type": "code",
   "execution_count": null,
   "metadata": {},
   "outputs": [],
   "source": [
    "import pandas as pd"
   ]
  },
  {
   "cell_type": "code",
   "execution_count": null,
   "metadata": {},
   "outputs": [],
   "source": [
    "team = 'team1'\n",
    "team_data = f'../data/{team}.csv'\n",
    "team_df = pd.read_csv(team_data)\n",
    "columns = {col: col.strip() for col in team_df.columns} \n",
    "print(columns)\n",
    "team_df = team_df.rename(columns=columns)\n",
    "team_df\n",
    "\n",
    "bowlers_df = team_df[(team_df['role'] == 'bowler') | (team_df['role'] == 'all-rounder')]\n",
    "bowlers_df['name'] = bowlers_df['first_name'] + ' ' + bowlers_df['last_name']\n",
    "bowlers_df = bowlers_df[['name', 'bowl_avg', 'economy', 'best_figures']]\n",
    "bowlers_df"
   ]
  }
 ],
 "metadata": {
  "interpreter": {
   "hash": "c4b757fa73a2c9704a552df42aeff89e6d45d1ddbc338f4cd3da1882ac67d0a5"
  },
  "kernelspec": {
   "display_name": "Python 3.8.10 ('venv': venv)",
   "language": "python",
   "name": "python3"
  },
  "language_info": {
   "codemirror_mode": {
    "name": "ipython",
    "version": 3
   },
   "file_extension": ".py",
   "mimetype": "text/x-python",
   "name": "python",
   "nbconvert_exporter": "python",
   "pygments_lexer": "ipython3",
   "version": "3.8.10"
  },
  "orig_nbformat": 4
 },
 "nbformat": 4,
 "nbformat_minor": 2
}
