{
 "cells": [
  {
   "cell_type": "code",
   "execution_count": 1,
   "metadata": {},
   "outputs": [],
   "source": [
    "import pandas as pd"
   ]
  },
  {
   "cell_type": "code",
   "execution_count": 28,
   "metadata": {},
   "outputs": [
    {
     "name": "stdout",
     "output_type": "stream",
     "text": [
      "{'first_name': 'first_name', ' last_name': 'last_name', ' bat_avg': 'bat_avg', ' strike_rate': 'strike_rate', ' highscore': 'highscore', ' bowl_avg': 'bowl_avg', ' economy': 'economy', ' best_figures': 'best_figures', ' role': 'role'}\n"
     ]
    },
    {
     "name": "stderr",
     "output_type": "stream",
     "text": [
      "/tmp/ipykernel_245755/1268695252.py:10: SettingWithCopyWarning: \n",
      "A value is trying to be set on a copy of a slice from a DataFrame.\n",
      "Try using .loc[row_indexer,col_indexer] = value instead\n",
      "\n",
      "See the caveats in the documentation: https://pandas.pydata.org/pandas-docs/stable/user_guide/indexing.html#returning-a-view-versus-a-copy\n",
      "  bowlers_df['name'] = bowlers_df['first_name'] + ' ' + bowlers_df['last_name']\n"
     ]
    },
    {
     "data": {
      "text/plain": [
       "['Jimmy Neesham',\n",
       " 'Riyan Parag',\n",
       " 'Ravichandran Ashwin',\n",
       " 'Trent Boult',\n",
       " 'Prasidh Krishna',\n",
       " 'Yuzvendra Chahal']"
      ]
     },
     "execution_count": 28,
     "metadata": {},
     "output_type": "execute_result"
    }
   ],
   "source": [
    "team = 'team1'\n",
    "team_data = f'../data/{team}.csv'\n",
    "team_df = pd.read_csv(team_data)\n",
    "columns = {col: col.strip() for col in team_df.columns} \n",
    "print(columns)\n",
    "team_df = team_df.rename(columns=columns)\n",
    "team_df\n",
    "\n",
    "bowlers_df = team_df[(team_df['role'] == 'bowler') | (team_df['role'] == 'all-rounder')]\n",
    "bowlers_df['name'] = bowlers_df['first_name'] + ' ' + bowlers_df['last_name']\n",
    "bowlers = bowlers_df['name'].to_list()\n",
    "bowlers"
   ]
  },
  {
   "cell_type": "code",
   "execution_count": null,
   "metadata": {},
   "outputs": [],
   "source": []
  }
 ],
 "metadata": {
  "interpreter": {
   "hash": "c4b757fa73a2c9704a552df42aeff89e6d45d1ddbc338f4cd3da1882ac67d0a5"
  },
  "kernelspec": {
   "display_name": "Python 3.8.10 ('venv': venv)",
   "language": "python",
   "name": "python3"
  },
  "language_info": {
   "codemirror_mode": {
    "name": "ipython",
    "version": 3
   },
   "file_extension": ".py",
   "mimetype": "text/x-python",
   "name": "python",
   "nbconvert_exporter": "python",
   "pygments_lexer": "ipython3",
   "version": "3.8.10"
  },
  "orig_nbformat": 4
 },
 "nbformat": 4,
 "nbformat_minor": 2
}
